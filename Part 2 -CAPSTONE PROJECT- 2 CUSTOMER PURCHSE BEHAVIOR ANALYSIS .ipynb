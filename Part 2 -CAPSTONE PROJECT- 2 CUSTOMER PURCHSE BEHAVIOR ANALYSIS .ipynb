{
 "cells": [
  {
   "cell_type": "code",
   "execution_count": null,
   "id": "98d0f0ac",
   "metadata": {},
   "outputs": [],
   "source": [
    "pip install dash"
   ]
  },
  {
   "cell_type": "code",
   "execution_count": null,
   "id": "553b3e25",
   "metadata": {},
   "outputs": [],
   "source": [
    "pip install flask plotly"
   ]
  },
  {
   "cell_type": "code",
   "execution_count": null,
   "id": "237d439c",
   "metadata": {},
   "outputs": [],
   "source": [
    "import pandas as pd\n",
    "from sklearn.cluster import KMeans\n",
    "import matplotlib.pyplot as plt\n",
    "import plotly.express as px \n",
    "import plotly.graph_objs as pgo\n",
    "from sklearn.metrics import silhouette_score,calinski_harabasz_score, davies_bouldin_score\n",
    "import warnings\n",
    "warnings.filterwarnings(\"ignore\")"
   ]
  },
  {
   "cell_type": "code",
   "execution_count": null,
   "id": "620b3969",
   "metadata": {
    "scrolled": true
   },
   "outputs": [],
   "source": [
    "df=pd.read_csv(\"amount_df.csv\")\n",
    "df.shape"
   ]
  },
  {
   "cell_type": "code",
   "execution_count": null,
   "id": "247c6ca3",
   "metadata": {},
   "outputs": [],
   "source": [
    "df.head()"
   ]
  },
  {
   "cell_type": "code",
   "execution_count": null,
   "id": "2a5d3914",
   "metadata": {},
   "outputs": [],
   "source": [
    "# Let the number of clusters be a parameter, so we can get a feel for an appropriate\n",
    "# value thereof.\n",
    "X_reduced=df.values\n",
    "\n",
    "def cluster(n_clusters):\n",
    "    kmeans = KMeans(n_clusters=n_clusters)\n",
    "    kmeans.fit(X_reduced)\n",
    "    Z = kmeans.predict(X_reduced)\n",
    "    return kmeans, Z\n",
    "import numpy as np\n",
    "max_clusters = 20\n",
    "\n",
    "inertias = np.zeros(max_clusters)\n",
    "for i in range(1, max_clusters):\n",
    "    kmeans, Z = cluster(i)\n",
    "    inertias[i] = kmeans.inertia_\n",
    "_x=range(1, max_clusters)\n",
    "data1 = pgo.Data([\n",
    "    pgo.Scatter(\n",
    "            x=list(_x),\n",
    "            y=inertias[1:]\n",
    "    )\n",
    "])\n",
    "layout1 = pgo.Layout(\n",
    "    title='OnlineRetailStore dataset - Elbow method',\n",
    "    xaxis=pgo.XAxis(title='Number of clusters',\n",
    "                    range=[0, max_clusters]),\n",
    "    yaxis=pgo.YAxis(title='Inertia')\n",
    ")\n",
    "fig1 = pgo.Figure(data=data1, layout=layout1)\n",
    "fig.write_html(\"elbow_method_curve.html\")\n",
    "fig1.show()"
   ]
  },
  {
   "cell_type": "code",
   "execution_count": null,
   "id": "db0f81a8",
   "metadata": {},
   "outputs": [],
   "source": [
    "#models\n",
    "X=df\n",
    "#Train clustering model\n",
    "km1 = KMeans(n_clusters=3)\n",
    "km1.fit(X)\n",
    "km1.fit_transform(df)# distance between point & all 3 centroids\n",
    "df['labels'] = km1.labels_"
   ]
  },
  {
   "cell_type": "code",
   "execution_count": null,
   "id": "b9d6ddb5",
   "metadata": {
    "scrolled": true
   },
   "outputs": [],
   "source": [
    "X=df\n",
    "silhouette_score = silhouette_score(X,km1.labels_)\n",
    "print(\"Silhouette Score: for 3 clusters\", silhouette_score)\n",
    "\n",
    "calinski_harabasz_index = calinski_harabasz_score(X,km1.labels_)\n",
    "print(\"Calinski-Harabasz Index: for 3 clusters\", calinski_harabasz_index)\n",
    "\n",
    "# Calculate the Davies-Bouldin Index\n",
    "davies_bouldin_index = davies_bouldin_score(X,km1.labels_)\n",
    "print(\"Davies-Bouldin Index: for 3 clusteres\", davies_bouldin_index)"
   ]
  },
  {
   "cell_type": "code",
   "execution_count": null,
   "id": "44cc53ba",
   "metadata": {
    "scrolled": true
   },
   "outputs": [],
   "source": [
    "print(df[df['labels']==0]['Amount'].max())\n",
    "print(df[df['labels']==1]['Amount'].min())\n",
    "print(df[df['labels']==1]['Amount'].max())\n",
    "print(df[df['labels']==2]['Amount'].min())\n",
    "print(df[df['labels']==2]['Amount'].max())"
   ]
  },
  {
   "cell_type": "code",
   "execution_count": null,
   "id": "28959469",
   "metadata": {},
   "outputs": [],
   "source": [
    "df.replace({'labels':0},'less than 30k',inplace=True)\n",
    "df.replace({'labels':2},'30k-125k ',inplace=True)\n",
    "df.replace({'labels':1},'125k-280k',inplace=True)"
   ]
  },
  {
   "cell_type": "code",
   "execution_count": null,
   "id": "41698491",
   "metadata": {},
   "outputs": [],
   "source": [
    "fig2=px.scatter(df,y=\"Amount\",x=\"CustomerID\",color=\"labels\",title='Customer segmentation')\n",
    "fig2.write_html(\"CustomerSegmentatin.html\")\n",
    "fig2.show()"
   ]
  },
  {
   "cell_type": "code",
   "execution_count": null,
   "id": "b04e9764",
   "metadata": {},
   "outputs": [],
   "source": [
    "fig3=px.box(df,y='Amount',color='labels')\n",
    "fig3.show()"
   ]
  },
  {
   "cell_type": "code",
   "execution_count": null,
   "id": "87e300a9",
   "metadata": {},
   "outputs": [],
   "source": [
    "#check for another model\n",
    "df1=pd.read_csv(\"amount_df.csv\")"
   ]
  },
  {
   "cell_type": "code",
   "execution_count": null,
   "id": "c9edf1f2",
   "metadata": {},
   "outputs": [],
   "source": [
    "X=df1\n",
    "km2 = KMeans(n_clusters=4)\n",
    "km2.fit(X)\n",
    "km2.fit_transform(df1)# distance between point & all 4 centroids\n",
    "df1['labels'] = km2.labels_"
   ]
  },
  {
   "cell_type": "code",
   "execution_count": null,
   "id": "8d928eb4",
   "metadata": {},
   "outputs": [],
   "source": [
    "X=df1\n",
    "#silhouette_score = silhouette_score(X,km2.labels_)\n",
    "print(\"Silhouette Score: for 4 clusters\", silhouette_score)\n",
    "calinski_harabasz_index = calinski_harabasz_score(X,km2.labels_)\n",
    "print(\"Calinski-Harabasz Index: for 4 clusters\", calinski_harabasz_index)\n",
    "# Calculate the Davies-Bouldin Index\n",
    "davies_bouldin_index = davies_bouldin_score(X, km2.labels_)\n",
    "print(\"Davies-Bouldin Index: for 4 clusteres\", davies_bouldin_index)"
   ]
  },
  {
   "cell_type": "code",
   "execution_count": null,
   "id": "eb761ae8",
   "metadata": {},
   "outputs": [],
   "source": [
    "print(df1[df1['labels']==0]['Amount'].max())\n",
    "print(df1[df1['labels']==2]['Amount'].min())\n",
    "print(df1[df1['labels']==2]['Amount'].max())\n",
    "print(df1[df1['labels']==1]['Amount'].min())\n",
    "print(df1[df1['labels']==1]['Amount'].max())\n",
    "print(df1[df1['labels']==3]['Amount'].min())\n",
    "print(df1[df1['labels']==3]['Amount'].max())"
   ]
  },
  {
   "cell_type": "code",
   "execution_count": null,
   "id": "27d3322e",
   "metadata": {},
   "outputs": [],
   "source": [
    "df1.replace({'labels':0},'less than 25k',inplace=True)\n",
    "df1.replace({'labels':3},'25k-91k ',inplace=True)\n",
    "df1.replace({'labels':2},'91k-200k',inplace=True)\n",
    "df1.replace({'labels':1},'200k-280k',inplace=True)"
   ]
  },
  {
   "cell_type": "code",
   "execution_count": null,
   "id": "eaf184c6",
   "metadata": {},
   "outputs": [],
   "source": [
    "px.scatter(df1,y=\"Amount\",x=\"CustomerID\",color=\"labels\")"
   ]
  },
  {
   "cell_type": "code",
   "execution_count": null,
   "id": "2c37ad87",
   "metadata": {},
   "outputs": [],
   "source": [
    "import joblib\n",
    "model=km1\n",
    "# Save the model to a file\n",
    "joblib.dump(model, 'kmeans_model.joblib')\n"
   ]
  },
  {
   "cell_type": "code",
   "execution_count": null,
   "id": "bfbd9786",
   "metadata": {
    "scrolled": true
   },
   "outputs": [],
   "source": [
    "fig2.show()"
   ]
  },
  {
   "cell_type": "code",
   "execution_count": null,
   "id": "f088bd56",
   "metadata": {},
   "outputs": [],
   "source": [
    "#125k to 280k band customers\n",
    "df[df['labels']== '125k-280k']"
   ]
  },
  {
   "cell_type": "code",
   "execution_count": null,
   "id": "7f85b337",
   "metadata": {},
   "outputs": [],
   "source": [
    "#125k to 280k band customers\n",
    "df[df['labels']== '30k-125k '].count()"
   ]
  },
  {
   "cell_type": "markdown",
   "id": "34a55b75",
   "metadata": {},
   "source": [
    "### Customer purchase behavior"
   ]
  },
  {
   "cell_type": "code",
   "execution_count": null,
   "id": "a98d7cfa",
   "metadata": {},
   "outputs": [],
   "source": [
    "df=pd.read_csv(\"amount_df_month.csv\")\n",
    "df=df.drop(\"Unnamed: 0\",axis=1)\n",
    "df.head()"
   ]
  },
  {
   "cell_type": "code",
   "execution_count": null,
   "id": "1a19f298",
   "metadata": {},
   "outputs": [],
   "source": [
    "df['CustomerID']=df['CustomerID'].astype('int').astype('str')"
   ]
  },
  {
   "cell_type": "code",
   "execution_count": null,
   "id": "0a132a9e",
   "metadata": {},
   "outputs": [],
   "source": [
    "top_cust=['14646','18102','17450','16446','14911']\n",
    "topCustomers=df[df.CustomerID.isin(top_cust)]"
   ]
  },
  {
   "cell_type": "code",
   "execution_count": null,
   "id": "ceb2d351",
   "metadata": {},
   "outputs": [],
   "source": [
    "topCustomers[topCustomers['CustomerID']=='14646']"
   ]
  },
  {
   "cell_type": "code",
   "execution_count": null,
   "id": "d6906f1b",
   "metadata": {},
   "outputs": [],
   "source": [
    "fig4=px.scatter(topCustomers,x=\"Year_Month\",y=\"Amount\",color=\"CustomerID\",title='Top customers')\n",
    "fig4.write_html(\"Top Customers.html\")\n",
    "fig4.show()"
   ]
  },
  {
   "cell_type": "markdown",
   "id": "77cbbf41",
   "metadata": {},
   "source": [
    "### Regular customers"
   ]
  },
  {
   "cell_type": "code",
   "execution_count": null,
   "id": "db1077de",
   "metadata": {},
   "outputs": [],
   "source": [
    "#pivot table creation with count of reccurence\n",
    "table = pd.pivot_table(data=df,index=['CustomerID'],columns=[\"Year_Month\"],values='Amount')\n",
    "table"
   ]
  },
  {
   "cell_type": "code",
   "execution_count": null,
   "id": "eba2685c",
   "metadata": {},
   "outputs": [],
   "source": [
    "#dataframe for its recurrence\n",
    "x=pd.DataFrame(table.count(axis=1).sort_values(ascending=False),columns=[\"Count\"])\n",
    "x.Count.value_counts()"
   ]
  },
  {
   "cell_type": "code",
   "execution_count": null,
   "id": "b8ec4b17",
   "metadata": {},
   "outputs": [],
   "source": [
    "# Regular customers index\n",
    "freq_cust=x[x[\"Count\"]>=10].index\n",
    "freq_cust #184 regular customers\n",
    "# freuent customers dataframe\n",
    "df_freq_cust=df[df.CustomerID.isin(freq_cust)]\n",
    "df_freq_cust.CustomerID.nunique()"
   ]
  },
  {
   "cell_type": "code",
   "execution_count": null,
   "id": "8eeeaee4",
   "metadata": {
    "scrolled": true
   },
   "outputs": [],
   "source": [
    "fig5=px.bar(df_freq_cust,x=\"Year_Month\",y=\"Amount\",color=\"CustomerID\",title='Regular purchasing customers')\n",
    "fig5.write_html(\"RegularCust.html\")\n",
    "fig5.show()"
   ]
  },
  {
   "cell_type": "code",
   "execution_count": null,
   "id": "2dfc1785",
   "metadata": {},
   "outputs": [],
   "source": [
    "df_freq_cust_mean_amt=df_freq_cust.groupby(\"CustomerID\").agg({\"Amount\":\"mean\"})\n",
    "threshold=5000\n",
    "freq_cust_mean_amt_gt_threshold=df_freq_cust_mean_amt[df_freq_cust_mean_amt[\"Amount\"]>threshold].index\n"
   ]
  },
  {
   "cell_type": "code",
   "execution_count": null,
   "id": "066c59fa",
   "metadata": {},
   "outputs": [],
   "source": [
    "freq_cust_mean_amt_gt_threshold.shape"
   ]
  },
  {
   "cell_type": "markdown",
   "id": "78e63e42",
   "metadata": {},
   "source": [
    "* regular customers who purchase>1000 are 59 \n",
    "* regular customers who purchase>5000 are  9"
   ]
  },
  {
   "cell_type": "code",
   "execution_count": null,
   "id": "760e10fd",
   "metadata": {},
   "outputs": [],
   "source": [
    "# dataframe of regular purchasing greater than 5000\n",
    "freq_df_threshold=df_freq_cust[df_freq_cust[\"CustomerID\"].isin(freq_cust_mean_amt_gt_threshold)]\n",
    "freq_df_threshold"
   ]
  },
  {
   "cell_type": "code",
   "execution_count": null,
   "id": "2084bf85",
   "metadata": {
    "scrolled": true
   },
   "outputs": [],
   "source": [
    "fig6=px.bar(freq_df_threshold,x=\"Year_Month\",y=\"Amount\",color=\"CustomerID\",\n",
    "           title=\"Regular customers who purchase greater than 5k\")\n",
    "fig6.show()\n",
    "fig6.write_html(\"reg_greater_5k.html\")"
   ]
  },
  {
   "cell_type": "code",
   "execution_count": null,
   "id": "9aa27df6",
   "metadata": {},
   "outputs": [],
   "source": []
  }
 ],
 "metadata": {
  "kernelspec": {
   "display_name": "Python 3 (ipykernel)",
   "language": "python",
   "name": "python3"
  },
  "language_info": {
   "codemirror_mode": {
    "name": "ipython",
    "version": 3
   },
   "file_extension": ".py",
   "mimetype": "text/x-python",
   "name": "python",
   "nbconvert_exporter": "python",
   "pygments_lexer": "ipython3",
   "version": "3.9.12"
  }
 },
 "nbformat": 4,
 "nbformat_minor": 5
}
