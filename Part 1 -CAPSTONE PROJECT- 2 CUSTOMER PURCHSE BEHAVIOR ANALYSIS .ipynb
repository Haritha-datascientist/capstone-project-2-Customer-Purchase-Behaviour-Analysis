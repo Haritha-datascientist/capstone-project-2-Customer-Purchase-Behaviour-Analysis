{
 "cells": [
  {
   "cell_type": "code",
   "execution_count": null,
   "id": "efc4852b",
   "metadata": {},
   "outputs": [],
   "source": [
    "import pandas as pd\n",
    "import matplotlib.pyplot as plt\n",
    "import seaborn as sns\n",
    "import plotly.express as px \n",
    "import plotly.graph_objs as pgo\n",
    "import sweetviz as sv\n"
   ]
  },
  {
   "cell_type": "code",
   "execution_count": null,
   "id": "40b74cf4",
   "metadata": {},
   "outputs": [],
   "source": [
    "Org_df=pd.read_csv(\"OnlineRetail.csv\",index_col=0,encoding='unicode_escape')\n",
    "Org_df.shape"
   ]
  },
  {
   "cell_type": "code",
   "execution_count": null,
   "id": "f8b81f45",
   "metadata": {},
   "outputs": [],
   "source": [
    "df=Org_df.reset_index()\n",
    "df.head()"
   ]
  },
  {
   "cell_type": "code",
   "execution_count": null,
   "id": "7a05ab19",
   "metadata": {
    "scrolled": true
   },
   "outputs": [],
   "source": [
    "df.info()"
   ]
  },
  {
   "cell_type": "code",
   "execution_count": null,
   "id": "31d235b0",
   "metadata": {
    "scrolled": true
   },
   "outputs": [],
   "source": [
    "df.isnull().sum()"
   ]
  },
  {
   "cell_type": "code",
   "execution_count": null,
   "id": "9fa3e87a",
   "metadata": {},
   "outputs": [],
   "source": [
    "df.duplicated().sum()"
   ]
  },
  {
   "cell_type": "markdown",
   "id": "8594282c",
   "metadata": {},
   "source": [
    "# univariate analysis"
   ]
  },
  {
   "cell_type": "code",
   "execution_count": null,
   "id": "648d906e",
   "metadata": {},
   "outputs": [],
   "source": [
    "df.InvoiceNo.value_counts()"
   ]
  },
  {
   "cell_type": "code",
   "execution_count": null,
   "id": "6887f317",
   "metadata": {
    "scrolled": true
   },
   "outputs": [],
   "source": [
    "px.histogram(df,x=\"StockCode\")"
   ]
  },
  {
   "cell_type": "code",
   "execution_count": null,
   "id": "a80e8871",
   "metadata": {
    "scrolled": true
   },
   "outputs": [],
   "source": [
    "df['Description'].value_counts()"
   ]
  },
  {
   "cell_type": "code",
   "execution_count": null,
   "id": "b90e7d70",
   "metadata": {
    "scrolled": true
   },
   "outputs": [],
   "source": [
    "px.box(df, x=\"Quantity\")\n"
   ]
  },
  {
   "cell_type": "code",
   "execution_count": null,
   "id": "38b2eb01",
   "metadata": {
    "scrolled": true
   },
   "outputs": [],
   "source": [
    "df[df[\"Quantity\"]>=74215].count()"
   ]
  },
  {
   "cell_type": "code",
   "execution_count": null,
   "id": "281d5e4d",
   "metadata": {
    "scrolled": false
   },
   "outputs": [],
   "source": [
    "df['InvoiceDate']=df[\"InvoiceDate\"].astype('datetime64')\n",
    "#Splitting Date Column\n",
    "df['Year'] = df['InvoiceDate'].dt.year\n",
    "df['Month'] = df['InvoiceDate'].dt.month\n",
    "df['Week'] = df['InvoiceDate'].dt.week"
   ]
  },
  {
   "cell_type": "code",
   "execution_count": null,
   "id": "457ccfee",
   "metadata": {
    "scrolled": false
   },
   "outputs": [],
   "source": [
    "sns.set(style='whitegrid', palette=\"deep\", font_scale=1.1, rc={\"figure.figsize\": [10, 5]})\n",
    "sns.countplot(data=df,x=\"Month\",hue=\"Year\");"
   ]
  },
  {
   "cell_type": "code",
   "execution_count": null,
   "id": "0c79dc06",
   "metadata": {},
   "outputs": [],
   "source": [
    "px.box(df,x='UnitPrice')"
   ]
  },
  {
   "cell_type": "code",
   "execution_count": null,
   "id": "d2d23ff2",
   "metadata": {
    "scrolled": true
   },
   "outputs": [],
   "source": [
    "df[df['UnitPrice']<=0].count()"
   ]
  },
  {
   "cell_type": "code",
   "execution_count": null,
   "id": "2ad662c5",
   "metadata": {},
   "outputs": [],
   "source": [
    "print(\"Unique:\",df.CustomerID.nunique())\n",
    "df.CustomerID.value_counts().head()"
   ]
  },
  {
   "cell_type": "code",
   "execution_count": null,
   "id": "abfdc0e9",
   "metadata": {
    "scrolled": false
   },
   "outputs": [],
   "source": [
    "px.histogram(df,x=\"Country\")"
   ]
  },
  {
   "cell_type": "markdown",
   "id": "7d657823",
   "metadata": {},
   "source": [
    "## Data Preprocessing "
   ]
  },
  {
   "cell_type": "markdown",
   "id": "896b2c34",
   "metadata": {},
   "source": [
    "#### Data cleaning"
   ]
  },
  {
   "cell_type": "code",
   "execution_count": null,
   "id": "05aa7413",
   "metadata": {},
   "outputs": [],
   "source": [
    "# CHECK THE MISSING VALUES\n",
    "df.isnull().sum()"
   ]
  },
  {
   "cell_type": "code",
   "execution_count": null,
   "id": "8a1adb82",
   "metadata": {},
   "outputs": [],
   "source": [
    "#check duplicate values\n",
    "df.duplicated().sum()"
   ]
  },
  {
   "cell_type": "code",
   "execution_count": null,
   "id": "33587bee",
   "metadata": {},
   "outputs": [],
   "source": [
    "df=df.dropna(subset=['CustomerID'])"
   ]
  },
  {
   "cell_type": "code",
   "execution_count": null,
   "id": "8d6fd72f",
   "metadata": {},
   "outputs": [],
   "source": [
    "df=df[(df[\"Quantity\"]>0) & (df[\"UnitPrice\"]>0)]"
   ]
  },
  {
   "cell_type": "markdown",
   "id": "70efa9e6",
   "metadata": {},
   "source": [
    "#### Data Transformation"
   ]
  },
  {
   "cell_type": "code",
   "execution_count": null,
   "id": "794365ea",
   "metadata": {},
   "outputs": [],
   "source": [
    "df['Year_Month']=pd.to_datetime(df[\"InvoiceDate\"].dt.strftime(\"%Y_%m\"),format=\"%Y_%m\")\n",
    "df['CustomerID']=df['CustomerID'].astype('int').astype('str')"
   ]
  },
  {
   "cell_type": "code",
   "execution_count": null,
   "id": "7649ef47",
   "metadata": {},
   "outputs": [],
   "source": [
    "#new column\n",
    "df[\"Amount\"]=df[\"Quantity\"]*df[\"UnitPrice\"]\n",
    "df.head()"
   ]
  },
  {
   "cell_type": "code",
   "execution_count": null,
   "id": "0bcd823c",
   "metadata": {},
   "outputs": [],
   "source": [
    "# creating dataframe and storing csv file\n",
    "from pathlib import Path  \n",
    "df_amount_month=df.groupby([\"CustomerID\",\"Year_Month\"]).agg({\"Amount\":\"sum\"}).sort_values(by=\"Amount\",ascending=False).reset_index()\n",
    "filepath = Path('amount_df_month.csv')\n",
    "filepath.parent.mkdir(parents=True, exist_ok=True) \n",
    "df_amount_month.to_csv(filepath)"
   ]
  },
  {
   "cell_type": "code",
   "execution_count": null,
   "id": "25239a2d",
   "metadata": {},
   "outputs": [],
   "source": [
    "filepath = Path('amount_df.csv')\n",
    "filepath.parent.mkdir(parents=True, exist_ok=True)\n",
    "df_amount=df.groupby([\"CustomerID\"]).agg({\"Amount\":\"sum\"}).sort_values(by=\"Amount\",ascending=False)\n",
    "df_amount.to_csv(filepath)"
   ]
  },
  {
   "cell_type": "code",
   "execution_count": null,
   "id": "b272f58f",
   "metadata": {},
   "outputs": [],
   "source": []
  }
 ],
 "metadata": {
  "kernelspec": {
   "display_name": "Python 3 (ipykernel)",
   "language": "python",
   "name": "python3"
  },
  "language_info": {
   "codemirror_mode": {
    "name": "ipython",
    "version": 3
   },
   "file_extension": ".py",
   "mimetype": "text/x-python",
   "name": "python",
   "nbconvert_exporter": "python",
   "pygments_lexer": "ipython3",
   "version": "3.9.12"
  }
 },
 "nbformat": 4,
 "nbformat_minor": 5
}
